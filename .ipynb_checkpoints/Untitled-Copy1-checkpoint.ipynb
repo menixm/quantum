{
 "cells": [
  {
   "cell_type": "code",
   "execution_count": 3,
   "metadata": {},
   "outputs": [],
   "source": [
    "def QASMDict(gates):\n",
    "#     print(gates)\n",
    "    qasmDict = {} #  {'qbit number' : []}\n",
    "#     print(gates)\n",
    "    for x in range(len(gates)):\n",
    "        if x == 1 or x == 0:\n",
    "            continue\n",
    "        if gates[x][0] == 'qreg':\n",
    "            for y in range(int(gates[x][1][2])):\n",
    "                qasmDict[str(y)] = []\n",
    "        if gates[x][0] != 'OPENQASM' and gates[x][0] != 'include' and gates[x][0] != 'qreg' and gates[x][0] != 'creg' and gates[x][0] != 'measure':\n",
    "            for z in range(len(gates[x])-1):\n",
    "                qasmDict[str(gates[x][z+1][2])].append(gates[x])\n",
    "    return qasmDict\n",
    "\n",
    "def openQASM(qasm_loc):\n",
    "    qasm_f = open(qasm_loc, \"r\")\n",
    "    gates = []\n",
    "    for line in qasm_f:\n",
    "        gates.append( list(filter(None, re.split(\" |,\", line.strip()[:-1]))) )\n",
    "    qasmDict = QASMDict(gates)\n",
    "    qasm_f.close()\n",
    "    return qasmDict\n"
   ]
  },
  {
   "cell_type": "code",
   "execution_count": 4,
   "metadata": {},
   "outputs": [],
   "source": [
    "#MAIN SWAPS\n",
    "def HHtoNone(qubit, depth, circuitDict):\n",
    "    circuitDict[str(qubit)].pop(depth + 1)\n",
    "    circuitDict[str(qubit)].pop(depth)\n",
    "    return circuitDict"
   ]
  },
  {
   "cell_type": "code",
   "execution_count": null,
   "metadata": {},
   "outputs": [],
   "source": []
  }
 ],
 "metadata": {
  "kernelspec": {
   "display_name": "Python 3",
   "language": "python",
   "name": "python3"
  },
  "language_info": {
   "codemirror_mode": {
    "name": "ipython",
    "version": 3
   },
   "file_extension": ".py",
   "mimetype": "text/x-python",
   "name": "python",
   "nbconvert_exporter": "python",
   "pygments_lexer": "ipython3",
   "version": "3.8.5"
  }
 },
 "nbformat": 4,
 "nbformat_minor": 4
}
